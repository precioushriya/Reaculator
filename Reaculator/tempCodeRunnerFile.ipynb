#for patrallel reaction

#nparallel reactions ,nreactants[], nproducts[nproducti[]], nreactant stoichio[],nproduct stoichio[nproductistoichio[], ]
from scipy.optimize import fsolve
from scipy.integrate import quad
import numpy as np
from sympy import symbols, integrate
from sympy import symbols, solve

def get_positive_integer(prompt):
    while True:
        try:
            value = int(input(prompt))
            if value <= 0:
                print("Input must be greater than 0. Please try again.")
            else:
                return value
        except ValueError:
            print("Invalid input. Please enter a valid integer.")

def get_positive_float(prompt):
    while True:
        try:
            value = float(input(prompt))
            if value <= 0:
                print("Input must be greater than 0. Please try again.")
            else:
                return value
        except ValueError:
            print("Invalid input. Please enter a valid integer.")

num_parallel_reactions = get_positive_integer("Enter the number of parallel reactions: ")

# Step 2: Initialize an empty list to hold parallel reactions
num_reactants = get_positive_integer("Enter the number of reactants: ")
reactants = []

# Step 3: Input reactants for each reaction
for i in range(num_reactants):
    reactant = input("Enter reactants for reaction: ")
    reactants.append(reactant)

# Step 4: Initialize an empty list to hold products for each reaction
products = []
for i in range(num_parallel_reactions):
    products_reaction = []
    num_products = get_positive_integer(f"Enter the number of products for reaction {i + 1}: ")
    for j in range(num_products):
        product = input(f"Enter product {j + 1} for reaction {i + 1}")
        products_reaction.append(product)
    products.append(products_reaction)

# Step 5: Input reactant coefficients for each reaction
reactant_coefficients = []
for i in range(num_reactants):
    coefficients = float(input("Enter reactant coefficients: "))
    reactant_coefficients.append(coefficients)

# Step 6: Input product coefficients for each reaction
product_coefficients = []
for i in range(num_parallel_reactions):
    reaction_coefficients = []
    for j in range(len(products[i])):
        coefficients = float(input(f"Enter product coefficients for reaction {i + 1}, product {j + 1} "))
        reaction_coefficients.append(coefficients)
    product_coefficients.append(reaction_coefficients)





# Step 7: Input rate constants for each reaction
rate_constants = []
for i in range(num_parallel_reactions):
    rate_constant = float(input(f"Enter rate constant for reaction {i + 1}: "))
    rate_constants.append(rate_constant)

# Step 8: Input order of reactants for each reaction
reactant_orders = []
for i in range(num_parallel_reactions):
    reactant_order = []
    for reactant in reactants:
        order = float(input(f"Enter order of {reactant} for reaction {i + 1}: "))
        reactant_order.append(order)
    reactant_orders.append(reactant_order)


# Step 9: Input reactor type
reactor_type = input("Enter the type of reactor: ")




# Step 11: Input reactor volume
reactor_volume = float(input("Enter the volume of the reactor (in liters): "))

volumetric_flow_rate = float(input("Enter the volumetric flow rate of the reactor (in liters): "))
    # Step 10: Input flow rates of reactants and products
initial_flow_rates_reactants = []
initial_flow_rates_products = []

for i in range(num_reactants):
    flow_rate = float(input(f"Enter the initial flow rate for {reactants[i]}: "))
    initial_flow_rates_reactants.append(flow_rate)

for i in range(num_parallel_reactions):
    initial_flow_rates_product = []
    for j in range(len(products[i])):
        flow_rate = float(input(f"Enter the initial flow rate for product {products[i][j]} in reaction {i + 1}: "))
        initial_flow_rates_product.append(flow_rate)
    initial_flow_rates_products.append(initial_flow_rates_product)

# Step 11: Calculate initial concentrations for reactants and products
initial_conc_reactants = []
initial_conc_products = []

for i in range(num_reactants):
    initial_concentration = initial_flow_rates_reactants[i] / volumetric_flow_rate
    initial_conc_reactants.append(initial_concentration)

for i in range(num_parallel_reactions):
    initial_concentrations_product = []
    initialreactionprodflow=initial_flow_rates_products[i]
    for j in range(len(products[i])):
        initial_concentration = initialreactionprodflow[j]/ volumetric_flow_rate
        initial_concentrations_product.append(initial_concentration)
    initial_conc_products.append(initial_concentrations_product)

rate_laws = []
for i in range(num_parallel_reactions):
    rate_law = rate_constants[i]
    for j in range(num_reactants):
        rate_law *= initial_conc_reactants[j] ** reactant_orders[i][j]
    rate_laws.append(rate_law)


net_rate_law=sum(rate_laws)
if(reactor_type=="cstr"):
  def reactorcstr(input_flow_rate, reactor_volume, volumetric_flow_rate, rate_laws, reactant_orders):
    def equation_to_solve(x):
        prod = 1
        for i in range(len(reactants)):
            if i == 0:
                prod *= 1
            else:
                prod *= prod * ((1 - (x * reactant_coefficients[i] * initial_conc_reactants[0]) / (reactant_coefficients[0] * initial_conc_reactants[i])) ** reactant_orders[i])

        return reactor_volume - (initial_flow_rates_reactants[0] * (x) / (net_rate_law * prod))


    initial_guess = 0.0  # Initial guess for the root
    root = fsolve(equation_to_solve, initial_guess)
    return root
  s = reactorcstr(initial_flow_rates_reactants, reactor_volume, volumetric_flow_rate, rate_laws, reactant_orders)
  print("The conversion in cstr is ", s[0])
  flowrate=initial_flow_rates_reactants[0]*(1-s[0])
